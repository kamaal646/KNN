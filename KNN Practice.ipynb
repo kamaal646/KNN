{
 "cells": [
  {
   "cell_type": "code",
   "execution_count": 1,
   "id": "6b4d5537",
   "metadata": {},
   "outputs": [],
   "source": [
    "import pandas as pd\n",
    "import matplotlib.pyplot as plt\n",
    "import ast"
   ]
  },
  {
   "cell_type": "code",
   "execution_count": 3,
   "id": "5ff0f610",
   "metadata": {},
   "outputs": [],
   "source": [
    "df = pd.read_csv('mldata.csv')"
   ]
  },
  {
   "cell_type": "code",
   "execution_count": 4,
   "id": "1d5c7c09",
   "metadata": {},
   "outputs": [
    {
     "data": {
      "text/html": [
       "<div>\n",
       "<style scoped>\n",
       "    .dataframe tbody tr th:only-of-type {\n",
       "        vertical-align: middle;\n",
       "    }\n",
       "\n",
       "    .dataframe tbody tr th {\n",
       "        vertical-align: top;\n",
       "    }\n",
       "\n",
       "    .dataframe thead th {\n",
       "        text-align: right;\n",
       "    }\n",
       "</style>\n",
       "<table border=\"1\" class=\"dataframe\">\n",
       "  <thead>\n",
       "    <tr style=\"text-align: right;\">\n",
       "      <th></th>\n",
       "      <th>age</th>\n",
       "      <th>height</th>\n",
       "      <th>weight</th>\n",
       "      <th>gender</th>\n",
       "      <th>likeness</th>\n",
       "    </tr>\n",
       "  </thead>\n",
       "  <tbody>\n",
       "    <tr>\n",
       "      <th>0</th>\n",
       "      <td>27</td>\n",
       "      <td>170.688</td>\n",
       "      <td>76.0</td>\n",
       "      <td>Male</td>\n",
       "      <td>Biryani</td>\n",
       "    </tr>\n",
       "    <tr>\n",
       "      <th>1</th>\n",
       "      <td>41</td>\n",
       "      <td>165.000</td>\n",
       "      <td>70.0</td>\n",
       "      <td>Male</td>\n",
       "      <td>Biryani</td>\n",
       "    </tr>\n",
       "    <tr>\n",
       "      <th>2</th>\n",
       "      <td>29</td>\n",
       "      <td>171.000</td>\n",
       "      <td>80.0</td>\n",
       "      <td>Male</td>\n",
       "      <td>Biryani</td>\n",
       "    </tr>\n",
       "    <tr>\n",
       "      <th>3</th>\n",
       "      <td>27</td>\n",
       "      <td>173.000</td>\n",
       "      <td>102.0</td>\n",
       "      <td>Male</td>\n",
       "      <td>Biryani</td>\n",
       "    </tr>\n",
       "    <tr>\n",
       "      <th>4</th>\n",
       "      <td>29</td>\n",
       "      <td>164.000</td>\n",
       "      <td>67.0</td>\n",
       "      <td>Male</td>\n",
       "      <td>Biryani</td>\n",
       "    </tr>\n",
       "  </tbody>\n",
       "</table>\n",
       "</div>"
      ],
      "text/plain": [
       "   age   height  weight gender likeness\n",
       "0   27  170.688    76.0   Male  Biryani\n",
       "1   41  165.000    70.0   Male  Biryani\n",
       "2   29  171.000    80.0   Male  Biryani\n",
       "3   27  173.000   102.0   Male  Biryani\n",
       "4   29  164.000    67.0   Male  Biryani"
      ]
     },
     "execution_count": 4,
     "metadata": {},
     "output_type": "execute_result"
    }
   ],
   "source": [
    "df.head()"
   ]
  },
  {
   "cell_type": "code",
   "execution_count": 5,
   "id": "60a877ad",
   "metadata": {},
   "outputs": [],
   "source": [
    "df['gender'] = df['gender'].replace('Male', 1)\n",
    "df['gender'] = df['gender'].replace('Female', 0)"
   ]
  },
  {
   "cell_type": "code",
   "execution_count": 6,
   "id": "fdfa50e8",
   "metadata": {},
   "outputs": [
    {
     "data": {
      "text/html": [
       "<div>\n",
       "<style scoped>\n",
       "    .dataframe tbody tr th:only-of-type {\n",
       "        vertical-align: middle;\n",
       "    }\n",
       "\n",
       "    .dataframe tbody tr th {\n",
       "        vertical-align: top;\n",
       "    }\n",
       "\n",
       "    .dataframe thead th {\n",
       "        text-align: right;\n",
       "    }\n",
       "</style>\n",
       "<table border=\"1\" class=\"dataframe\">\n",
       "  <thead>\n",
       "    <tr style=\"text-align: right;\">\n",
       "      <th></th>\n",
       "      <th>age</th>\n",
       "      <th>height</th>\n",
       "      <th>weight</th>\n",
       "      <th>gender</th>\n",
       "      <th>likeness</th>\n",
       "    </tr>\n",
       "  </thead>\n",
       "  <tbody>\n",
       "    <tr>\n",
       "      <th>240</th>\n",
       "      <td>31</td>\n",
       "      <td>160.0</td>\n",
       "      <td>60.0</td>\n",
       "      <td>1</td>\n",
       "      <td>Pakora</td>\n",
       "    </tr>\n",
       "    <tr>\n",
       "      <th>241</th>\n",
       "      <td>26</td>\n",
       "      <td>172.0</td>\n",
       "      <td>70.0</td>\n",
       "      <td>1</td>\n",
       "      <td>Biryani</td>\n",
       "    </tr>\n",
       "    <tr>\n",
       "      <th>242</th>\n",
       "      <td>40</td>\n",
       "      <td>178.0</td>\n",
       "      <td>80.0</td>\n",
       "      <td>1</td>\n",
       "      <td>Biryani</td>\n",
       "    </tr>\n",
       "    <tr>\n",
       "      <th>243</th>\n",
       "      <td>25</td>\n",
       "      <td>5.7</td>\n",
       "      <td>65.0</td>\n",
       "      <td>1</td>\n",
       "      <td>Biryani</td>\n",
       "    </tr>\n",
       "    <tr>\n",
       "      <th>244</th>\n",
       "      <td>33</td>\n",
       "      <td>157.0</td>\n",
       "      <td>56.0</td>\n",
       "      <td>0</td>\n",
       "      <td>Samosa</td>\n",
       "    </tr>\n",
       "  </tbody>\n",
       "</table>\n",
       "</div>"
      ],
      "text/plain": [
       "     age  height  weight  gender likeness\n",
       "240   31   160.0    60.0       1   Pakora\n",
       "241   26   172.0    70.0       1  Biryani\n",
       "242   40   178.0    80.0       1  Biryani\n",
       "243   25     5.7    65.0       1  Biryani\n",
       "244   33   157.0    56.0       0   Samosa"
      ]
     },
     "execution_count": 6,
     "metadata": {},
     "output_type": "execute_result"
    }
   ],
   "source": [
    "df.tail()"
   ]
  },
  {
   "cell_type": "code",
   "execution_count": 7,
   "id": "afeae650",
   "metadata": {},
   "outputs": [],
   "source": [
    "# selection of input and output values\n",
    "\n",
    "X = df[['weight', 'gender']]\n",
    "y = df['likeness']"
   ]
  },
  {
   "cell_type": "code",
   "execution_count": 10,
   "id": "8a2e04cf",
   "metadata": {},
   "outputs": [
    {
     "data": {
      "text/plain": [
       "array(['Biryani'], dtype=object)"
      ]
     },
     "execution_count": 10,
     "metadata": {},
     "output_type": "execute_result"
    }
   ],
   "source": [
    "# moedel and prediction\n",
    "\n",
    "from sklearn.neighbors import KNeighborsClassifier\n",
    "model = KNeighborsClassifier(n_neighbors=5)\n",
    "\n",
    "# Train the model using the training sets\n",
    "model.fit(X, y)\n",
    "\n",
    "# Predicte Output \n",
    "predicted = model.predict([[78,1]])  # 70:weight, 1:gender\n",
    "\n",
    "predicted"
   ]
  },
  {
   "cell_type": "code",
   "execution_count": 11,
   "id": "e46cff72",
   "metadata": {},
   "outputs": [
    {
     "data": {
      "text/plain": [
       "array(['Biryani', 'Biryani', 'Biryani', 'Biryani', 'Biryani', 'Biryani',\n",
       "       'Biryani', 'Biryani', 'Samosa', 'Biryani', 'Biryani', 'Biryani',\n",
       "       'Biryani', 'Biryani', 'Biryani', 'Biryani', 'Biryani', 'Biryani',\n",
       "       'Biryani', 'Biryani', 'Biryani', 'Biryani', 'Biryani', 'Biryani',\n",
       "       'Biryani', 'Biryani', 'Biryani', 'Biryani', 'Biryani', 'Biryani',\n",
       "       'Biryani', 'Biryani', 'Samosa', 'Samosa', 'Pakora', 'Biryani',\n",
       "       'Samosa', 'Biryani', 'Biryani', 'Samosa', 'Biryani', 'Samosa',\n",
       "       'Biryani', 'Biryani', 'Biryani', 'Biryani', 'Biryani', 'Biryani',\n",
       "       'Biryani', 'Biryani', 'Biryani', 'Biryani', 'Biryani', 'Biryani',\n",
       "       'Biryani', 'Biryani', 'Biryani', 'Biryani', 'Biryani', 'Biryani',\n",
       "       'Biryani', 'Biryani', 'Biryani', 'Pakora', 'Biryani', 'Biryani',\n",
       "       'Biryani', 'Biryani', 'Biryani', 'Biryani', 'Biryani', 'Biryani',\n",
       "       'Biryani', 'Biryani', 'Biryani', 'Biryani', 'Biryani', 'Biryani',\n",
       "       'Biryani', 'Biryani', 'Biryani', 'Biryani', 'Biryani', 'Biryani',\n",
       "       'Biryani', 'Samosa', 'Biryani', 'Pakora', 'Biryani', 'Samosa',\n",
       "       'Biryani', 'Biryani', 'Samosa', 'Biryani', 'Biryani', 'Biryani',\n",
       "       'Biryani', 'Biryani', 'Biryani', 'Samosa', 'Biryani', 'Biryani',\n",
       "       'Biryani', 'Biryani', 'Biryani', 'Pakora', 'Biryani', 'Biryani',\n",
       "       'Biryani', 'Biryani', 'Biryani', 'Biryani', 'Biryani', 'Biryani',\n",
       "       'Biryani', 'Biryani', 'Pakora', 'Biryani', 'Biryani', 'Biryani',\n",
       "       'Biryani', 'Pakora', 'Biryani', 'Biryani', 'Biryani', 'Biryani',\n",
       "       'Biryani', 'Biryani', 'Biryani', 'Biryani', 'Biryani', 'Biryani',\n",
       "       'Biryani', 'Biryani', 'Biryani', 'Biryani', 'Biryani', 'Pakora',\n",
       "       'Biryani', 'Biryani', 'Biryani', 'Biryani', 'Samosa', 'Biryani',\n",
       "       'Biryani', 'Biryani', 'Biryani', 'Biryani', 'Biryani', 'Biryani',\n",
       "       'Biryani', 'Biryani', 'Biryani', 'Samosa', 'Biryani', 'Biryani',\n",
       "       'Samosa', 'Biryani', 'Biryani', 'Pakora', 'Biryani', 'Biryani',\n",
       "       'Biryani', 'Biryani', 'Biryani', 'Biryani', 'Biryani', 'Biryani',\n",
       "       'Biryani', 'Samosa', 'Pakora', 'Samosa', 'Biryani', 'Biryani',\n",
       "       'Biryani', 'Biryani', 'Biryani', 'Biryani', 'Samosa', 'Biryani',\n",
       "       'Biryani', 'Samosa', 'Pakora', 'Biryani', 'Biryani', 'Biryani',\n",
       "       'Biryani', 'Biryani', 'Biryani', 'Biryani', 'Biryani', 'Biryani',\n",
       "       'Biryani', 'Samosa', 'Biryani', 'Biryani', 'Biryani', 'Biryani',\n",
       "       'Biryani', 'Biryani', 'Biryani', 'Biryani', 'Biryani', 'Biryani',\n",
       "       'Biryani', 'Biryani', 'Samosa', 'Biryani', 'Pakora', 'Biryani',\n",
       "       'Biryani', 'Biryani', 'Biryani', 'Biryani', 'Samosa', 'Biryani',\n",
       "       'Biryani', 'Biryani', 'Biryani', 'Biryani', 'Biryani', 'Biryani',\n",
       "       'Biryani', 'Biryani', 'Biryani', 'Biryani', 'Samosa', 'Biryani',\n",
       "       'Biryani', 'Biryani', 'Samosa', 'Biryani', 'Biryani', 'Biryani',\n",
       "       'Biryani', 'Biryani', 'Biryani', 'Biryani', 'Samosa', 'Biryani',\n",
       "       'Biryani', 'Biryani', 'Biryani', 'Biryani', 'Biryani'],\n",
       "      dtype=object)"
      ]
     },
     "execution_count": 11,
     "metadata": {},
     "output_type": "execute_result"
    }
   ],
   "source": [
    "model.predict(X)"
   ]
  },
  {
   "cell_type": "code",
   "execution_count": 24,
   "id": "571e3a64",
   "metadata": {},
   "outputs": [
    {
     "data": {
      "text/plain": [
       "0.7346938775510204"
      ]
     },
     "execution_count": 24,
     "metadata": {},
     "output_type": "execute_result"
    }
   ],
   "source": [
    "# metrics for evaluation\n",
    "## split data into test and train (80/20)\n",
    "\n",
    "from sklearn.model_selection import train_test_split\n",
    "from sklearn.metrics import accuracy_score\n",
    "\n",
    "X_train, X_test, y_train, y_test = train_test_split(X, y, test_size=0.2)\n",
    "\n",
    "# creating the model\n",
    "model = KNeighborsClassifier(n_neighbors=10)\n",
    "\n",
    "# fitting the model\n",
    "model.fit(X_train, y_train)\n",
    "\n",
    "predicted_values = model.predict(X_test)\n",
    "predicted_values\n",
    "\n",
    "# checking the score\n",
    "score = accuracy_score(y_test, predicted_values)\n",
    "\n",
    "score"
   ]
  },
  {
   "cell_type": "code",
   "execution_count": null,
   "id": "feddfdae",
   "metadata": {},
   "outputs": [],
   "source": []
  }
 ],
 "metadata": {
  "kernelspec": {
   "display_name": "Python 3 (ipykernel)",
   "language": "python",
   "name": "python3"
  },
  "language_info": {
   "codemirror_mode": {
    "name": "ipython",
    "version": 3
   },
   "file_extension": ".py",
   "mimetype": "text/x-python",
   "name": "python",
   "nbconvert_exporter": "python",
   "pygments_lexer": "ipython3",
   "version": "3.9.7"
  }
 },
 "nbformat": 4,
 "nbformat_minor": 5
}
